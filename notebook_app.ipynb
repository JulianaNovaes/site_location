{
 "cells": [
  {
   "cell_type": "markdown",
   "id": "01dc5e81",
   "metadata": {
    "pycharm": {
     "name": "#%% md\n"
    }
   },
   "source": [
    "# Site Location Project\n",
    "\n",
    "This project aims to create a combined view of the UK map that is able to highlight the best areas to build a factory that makes rock aggregates based on three factors: population, railway networks and geology.\n",
    "\n",
    "In order to start your interactive notebook, please start by run the following cell, where all the imports are done.\n"
   ]
  },
  {
   "cell_type": "code",
   "execution_count": 7,
   "id": "438cab8f",
   "metadata": {
    "pycharm": {
     "name": "#%%\n"
    }
   },
   "outputs": [],
   "source": [
    "import numpy as np\n",
    "import csv\n",
    "from map import *\n",
    "import matplotlib.pyplot as plt\n",
    "import webbrowser\n",
    "import streamlit as st\n",
    "import ipywidgets as widgets\n",
    "import functools\n",
    "from IPython.display import clear_output"
   ]
  },
  {
   "cell_type": "markdown",
   "id": "0615c530",
   "metadata": {},
   "source": [
    "# User input\n",
    "Choose the level of importance you want to attribute to population, railway or geology. The importance levels vary from 0 to 3 (except for population, where the variation goes from 1 to 3). After you choose, click on `Confirm my choices`. If you would like, you can also download the file after by clicking on `Download File`."
   ]
  },
  {
   "cell_type": "code",
   "execution_count": 8,
   "id": "5cc74826",
   "metadata": {
    "pycharm": {
     "name": "#%%\n"
    }
   },
   "outputs": [
    {
     "data": {
      "application/vnd.jupyter.widget-view+json": {
       "model_id": "f3200d63846948fea59395f1e6043629",
       "version_major": 2,
       "version_minor": 0
      },
      "text/plain": [
       "IntSlider(value=1, description='Population', max=3, min=1)"
      ]
     },
     "metadata": {},
     "output_type": "display_data"
    },
    {
     "data": {
      "application/vnd.jupyter.widget-view+json": {
       "model_id": "4eaedbdbd00845aea3288c7d4f04e4ac",
       "version_major": 2,
       "version_minor": 0
      },
      "text/plain": [
       "IntSlider(value=1, description='Railway', max=3)"
      ]
     },
     "metadata": {},
     "output_type": "display_data"
    },
    {
     "data": {
      "application/vnd.jupyter.widget-view+json": {
       "model_id": "918f2f73f713426ab112750a63a993b9",
       "version_major": 2,
       "version_minor": 0
      },
      "text/plain": [
       "IntSlider(value=1, description='Geology', max=3)"
      ]
     },
     "metadata": {},
     "output_type": "display_data"
    },
    {
     "data": {
      "application/vnd.jupyter.widget-view+json": {
       "model_id": "964f49930afb48959f129b642bb62752",
       "version_major": 2,
       "version_minor": 0
      },
      "text/plain": [
       "Button(description='Confirm my choices', style=ButtonStyle())"
      ]
     },
     "metadata": {},
     "output_type": "display_data"
    },
    {
     "data": {
      "application/vnd.jupyter.widget-view+json": {
       "model_id": "0bd80908b30e47d2a1ff8d1fcf61674d",
       "version_major": 2,
       "version_minor": 0
      },
      "text/plain": [
       "Button(description='Download File', style=ButtonStyle())"
      ]
     },
     "metadata": {},
     "output_type": "display_data"
    }
   ],
   "source": [
    "clear_output(wait=True)\n",
    "\n",
    "pop = widgets.IntSlider(min=1, max=3, value=1, description='Population')\n",
    "rail = widgets.IntSlider(min=0, max=3, value=1, description='Railway')\n",
    "geo = widgets.IntSlider(min=0, max=3, value=1, description='Geology')\n",
    "\n",
    "confirm_button = widgets.Button(description='Confirm my choices')\n",
    "\n",
    "download_button = widgets.Button(description='Download File')\n",
    "\n",
    "display(pop, rail, geo, confirm_button, download_button)\n",
    "\n",
    "confirm_button.on_click(functools.partial(on_confirm_button_clicked, args_list=[pop, rail, geo]))\n",
    "download_button.on_click(on_download_button_clicked)\n"
   ]
  },
  {
   "cell_type": "code",
   "execution_count": null,
   "id": "43a2df90",
   "metadata": {
    "pycharm": {
     "name": "#%%\n"
    }
   },
   "outputs": [],
   "source": []
  }
 ],
 "metadata": {
  "kernelspec": {
   "display_name": "Python 3 (ipykernel)",
   "language": "python",
   "name": "python3"
  },
  "language_info": {
   "codemirror_mode": {
    "name": "ipython",
    "version": 3
   },
   "file_extension": ".py",
   "mimetype": "text/x-python",
   "name": "python",
   "nbconvert_exporter": "python",
   "pygments_lexer": "ipython3",
   "version": "3.7.13"
  },
  "vscode": {
   "interpreter": {
    "hash": "7b7003cbd0c2e81419546795997a7179d704be95e04c8b6076bd079bc90d76e7"
   }
  }
 },
 "nbformat": 4,
 "nbformat_minor": 5
}
